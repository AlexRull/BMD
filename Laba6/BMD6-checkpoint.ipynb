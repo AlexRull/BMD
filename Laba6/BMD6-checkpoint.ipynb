{
 "cells": [
  {
   "cell_type": "code",
   "execution_count": 173,
   "metadata": {},
   "outputs": [
    {
     "data": {
      "text/html": [
       "<div>\n",
       "<style scoped>\n",
       "    .dataframe tbody tr th:only-of-type {\n",
       "        vertical-align: middle;\n",
       "    }\n",
       "\n",
       "    .dataframe tbody tr th {\n",
       "        vertical-align: top;\n",
       "    }\n",
       "\n",
       "    .dataframe thead th {\n",
       "        text-align: right;\n",
       "    }\n",
       "</style>\n",
       "<table border=\"1\" class=\"dataframe\">\n",
       "  <thead>\n",
       "    <tr style=\"text-align: right;\">\n",
       "      <th></th>\n",
       "      <th>Country</th>\n",
       "      <th>1900</th>\n",
       "      <th>2018</th>\n",
       "    </tr>\n",
       "  </thead>\n",
       "  <tbody>\n",
       "    <tr>\n",
       "      <td>0</td>\n",
       "      <td>Austria</td>\n",
       "      <td>59.30</td>\n",
       "      <td>82.15</td>\n",
       "    </tr>\n",
       "    <tr>\n",
       "      <td>1</td>\n",
       "      <td>Belgium</td>\n",
       "      <td>62.21</td>\n",
       "      <td>81.35</td>\n",
       "    </tr>\n",
       "    <tr>\n",
       "      <td>2</td>\n",
       "      <td>Great Britain</td>\n",
       "      <td>61.41</td>\n",
       "      <td>81.80</td>\n",
       "    </tr>\n",
       "    <tr>\n",
       "      <td>3</td>\n",
       "      <td>Germany</td>\n",
       "      <td>61.39</td>\n",
       "      <td>81.30</td>\n",
       "    </tr>\n",
       "    <tr>\n",
       "      <td>4</td>\n",
       "      <td>Denmark</td>\n",
       "      <td>64.62</td>\n",
       "      <td>81.55</td>\n",
       "    </tr>\n",
       "    <tr>\n",
       "      <td>5</td>\n",
       "      <td>Italy</td>\n",
       "      <td>62.05</td>\n",
       "      <td>83.05</td>\n",
       "    </tr>\n",
       "    <tr>\n",
       "      <td>6</td>\n",
       "      <td>Netherlands</td>\n",
       "      <td>63.11</td>\n",
       "      <td>81.90</td>\n",
       "    </tr>\n",
       "    <tr>\n",
       "      <td>7</td>\n",
       "      <td>Norway</td>\n",
       "      <td>63.57</td>\n",
       "      <td>82.70</td>\n",
       "    </tr>\n",
       "    <tr>\n",
       "      <td>8</td>\n",
       "      <td>France</td>\n",
       "      <td>61.18</td>\n",
       "      <td>83.25</td>\n",
       "    </tr>\n",
       "    <tr>\n",
       "      <td>9</td>\n",
       "      <td>Sweden</td>\n",
       "      <td>64.64</td>\n",
       "      <td>82.65</td>\n",
       "    </tr>\n",
       "  </tbody>\n",
       "</table>\n",
       "</div>"
      ],
      "text/plain": [
       "         Country   1900   2018\n",
       "0        Austria  59.30  82.15\n",
       "1        Belgium  62.21  81.35\n",
       "2  Great Britain  61.41  81.80\n",
       "3        Germany  61.39  81.30\n",
       "4        Denmark  64.62  81.55\n",
       "5          Italy  62.05  83.05\n",
       "6    Netherlands  63.11  81.90\n",
       "7         Norway  63.57  82.70\n",
       "8         France  61.18  83.25\n",
       "9         Sweden  64.64  82.65"
      ]
     },
     "execution_count": 173,
     "metadata": {},
     "output_type": "execute_result"
    }
   ],
   "source": [
    "# База даних середньої продовжуваності життя людей в різних країнах в 1900 та 2018 роках, була сформована згідно з даних сайту\n",
    "# https://mariro.livejournal.com/258064.html\n",
    "import pandas as pd\n",
    "data = pd.DataFrame(\n",
    "{\n",
    "    \"Country\" : ['Austria', 'Belgium', 'Great Britain', 'Germany', 'Denmark', 'Italy', 'Netherlands', 'Norway', 'France', 'Sweden'],\n",
    "    \"1900\" : [59.3, 62.21, 61.41, 61.39, 64.62, 62.05, 63.11, 63.57, 61.18, 64.64],\n",
    "    \"2018\" : [82.15, 81.35, 81.8, 81.3, 81.55, 83.05, 81.9, 82.7, 83.25, 82.65]\n",
    "})\n",
    "\n",
    "data"
   ]
  },
  {
   "cell_type": "code",
   "execution_count": 174,
   "metadata": {},
   "outputs": [
    {
     "data": {
      "text/plain": [
       "{'whiskers': [<matplotlib.lines.Line2D at 0x21faa202f88>,\n",
       "  <matplotlib.lines.Line2D at 0x21faa20b7c8>,\n",
       "  <matplotlib.lines.Line2D at 0x21faa2186c8>,\n",
       "  <matplotlib.lines.Line2D at 0x21faa218d08>],\n",
       " 'caps': [<matplotlib.lines.Line2D at 0x21faa20bd48>,\n",
       "  <matplotlib.lines.Line2D at 0x21faa20be48>,\n",
       "  <matplotlib.lines.Line2D at 0x21faa218e08>,\n",
       "  <matplotlib.lines.Line2D at 0x21faa218e88>],\n",
       " 'boxes': [<matplotlib.patches.PathPatch at 0x21faa202c48>,\n",
       "  <matplotlib.patches.PathPatch at 0x21faa211d88>],\n",
       " 'medians': [<matplotlib.lines.Line2D at 0x21faa20bec8>,\n",
       "  <matplotlib.lines.Line2D at 0x21faa220d48>],\n",
       " 'fliers': [<matplotlib.lines.Line2D at 0x21faa211e08>,\n",
       "  <matplotlib.lines.Line2D at 0x21faa220e48>],\n",
       " 'means': []}"
      ]
     },
     "execution_count": 174,
     "metadata": {},
     "output_type": "execute_result"
    },
    {
     "data": {
      "image/png": "[encoded data removed]",
      "text/plain": [
       "<Figure size 432x288 with 1 Axes>"
      ]
     },
     "metadata": {
      "needs_background": "light"
     },
     "output_type": "display_data"
    }
   ],
   "source": [
    "import matplotlib.pyplot as plt\n",
    "current_data = [data[\"1900\"], data[\"2018\"]]\n",
    "plt.boxplot(x = current_data, vert = False, patch_artist = True, widths = 0.3)"
   ]
  },
  {
   "cell_type": "code",
   "execution_count": 175,
   "metadata": {},
   "outputs": [
    {
     "name": "stdout",
     "output_type": "stream",
     "text": [
      "     df     0.05\n",
      "0     1  0.99692\n",
      "1     2  0.95000\n",
      "2     3  0.87830\n",
      "3     4  0.81140\n",
      "4     5  0.75450\n",
      "5     6  0.70670\n",
      "6     7  0.66640\n",
      "7     8  0.63190\n",
      "8     9  0.60210\n",
      "9    10  0.57600\n",
      "10   11  0.55290\n",
      "11   12  0.53240\n",
      "12   13  0.51390\n",
      "13   14  0.49730\n",
      "14   15  0.48210\n",
      "15   16  0.46830\n",
      "16   17  0.45550\n",
      "17   18  0.44380\n",
      "18   19  0.43290\n",
      "19   20  0.42270\n",
      "20   21  0.41300\n",
      "21   22  0.40400\n",
      "22   23  0.39600\n",
      "23   24  0.38800\n",
      "24   25  0.38090\n",
      "25   30  0.34940\n",
      "26   35  0.32460\n",
      "27   40  0.30440\n",
      "28   45  0.28750\n",
      "29   50  0.27320\n",
      "30   60  0.25000\n",
      "31   70  0.23190\n",
      "32   80  0.21720\n",
      "33   90  0.20500\n",
      "34  100  0.19460\n",
      "35  120  0.17800\n",
      "36    ∞  0.08700\n"
     ]
    }
   ],
   "source": [
    "# підключення таблиці критичних значень кореляційного аналізу\n",
    "file = 'C:/Users/Alex/Desktop/BMD/Laba6/Core_critical.xlsx'\n",
    "xl = pd.ExcelFile(file)\n",
    "control_critical = xl.parse('Лист1')\n",
    "print(control_critical)"
   ]
  },
  {
   "cell_type": "code",
   "execution_count": 176,
   "metadata": {},
   "outputs": [
    {
     "name": "stdout",
     "output_type": "stream",
     "text": [
      "[-0.0033620825746774326, 0.6319, 'NOT significant']\n"
     ]
    }
   ],
   "source": [
    "import math\n",
    "\n",
    "# функція для оцінки зв'язку між групами за коефіцієнтом кореляції Пірсона\n",
    "def Pirson(n):\n",
    "    Result = []\n",
    "    Sum_Square_1900 = 0\n",
    "    Sum_Square_2018 = 0\n",
    "    Sum_Product = 0\n",
    "    \n",
    "# цикл для підрахунку необхідних доданків для головної формули коефіцієнту r    \n",
    "    for i in range(data.shape[0]):\n",
    "        Sum_Product = Sum_Product + (data[\"1900\"][i] * data[\"2018\"][i])\n",
    "        Sum_Square_1900 = Sum_Square_1900 + (data[\"1900\"][i]) ** 2\n",
    "        Sum_Square_2018 = Sum_Square_2018 + (data[\"2018\"][i]) ** 2\n",
    "    \n",
    "    r = ((n * Sum_Product) - (data[\"1900\"].sum() * data[\"2018\"].sum()))/(math.sqrt((n * Sum_Square_1900 - (data[\"1900\"].sum() ** 2)) * (n * Sum_Square_2018 - (data[\"2018\"].sum() ** 2))))\n",
    "    Result.append(r)\n",
    "\n",
    "# підрахунок значення ступеня свободи Value_freedom_degree\n",
    "    count = 0\n",
    "    while control_critical[\"df\"][count] < n-2:\n",
    "        count += 1\n",
    "    Value_freedom_degree = control_critical[0.05][count]\n",
    "    Result.append(Value_freedom_degree)\n",
    "    \n",
    "# оцінюємо значимість зв'язку\n",
    "    if abs(r) > Value_freedom_degree:\n",
    "        Result.append(\"significant\")\n",
    "    else:\n",
    "        Result.append(\"NOT significant\")\n",
    "    \n",
    "    return Result\n",
    "        \n",
    "print(Pirson(data.shape[0]))"
   ]
  },
  {
   "cell_type": "code",
   "execution_count": 177,
   "metadata": {},
   "outputs": [
    {
     "data": {
      "text/html": [
       "<div>\n",
       "<style scoped>\n",
       "    .dataframe tbody tr th:only-of-type {\n",
       "        vertical-align: middle;\n",
       "    }\n",
       "\n",
       "    .dataframe tbody tr th {\n",
       "        vertical-align: top;\n",
       "    }\n",
       "\n",
       "    .dataframe thead th {\n",
       "        text-align: right;\n",
       "    }\n",
       "</style>\n",
       "<table border=\"1\" class=\"dataframe\">\n",
       "  <thead>\n",
       "    <tr style=\"text-align: right;\">\n",
       "      <th></th>\n",
       "      <th>Country</th>\n",
       "      <th>1900</th>\n",
       "      <th>2018</th>\n",
       "      <th>difference</th>\n",
       "    </tr>\n",
       "  </thead>\n",
       "  <tbody>\n",
       "    <tr>\n",
       "      <td>0</td>\n",
       "      <td>Austria</td>\n",
       "      <td>59.30</td>\n",
       "      <td>82.15</td>\n",
       "      <td>-22.85</td>\n",
       "    </tr>\n",
       "    <tr>\n",
       "      <td>1</td>\n",
       "      <td>Belgium</td>\n",
       "      <td>62.21</td>\n",
       "      <td>81.35</td>\n",
       "      <td>-19.14</td>\n",
       "    </tr>\n",
       "    <tr>\n",
       "      <td>2</td>\n",
       "      <td>Great Britain</td>\n",
       "      <td>61.41</td>\n",
       "      <td>81.80</td>\n",
       "      <td>-20.39</td>\n",
       "    </tr>\n",
       "    <tr>\n",
       "      <td>3</td>\n",
       "      <td>Germany</td>\n",
       "      <td>61.39</td>\n",
       "      <td>81.30</td>\n",
       "      <td>-19.91</td>\n",
       "    </tr>\n",
       "    <tr>\n",
       "      <td>4</td>\n",
       "      <td>Denmark</td>\n",
       "      <td>64.62</td>\n",
       "      <td>81.55</td>\n",
       "      <td>-16.93</td>\n",
       "    </tr>\n",
       "    <tr>\n",
       "      <td>5</td>\n",
       "      <td>Italy</td>\n",
       "      <td>62.05</td>\n",
       "      <td>83.05</td>\n",
       "      <td>-21.00</td>\n",
       "    </tr>\n",
       "    <tr>\n",
       "      <td>6</td>\n",
       "      <td>Netherlands</td>\n",
       "      <td>63.11</td>\n",
       "      <td>81.90</td>\n",
       "      <td>-18.79</td>\n",
       "    </tr>\n",
       "    <tr>\n",
       "      <td>7</td>\n",
       "      <td>Norway</td>\n",
       "      <td>63.57</td>\n",
       "      <td>82.70</td>\n",
       "      <td>-19.13</td>\n",
       "    </tr>\n",
       "    <tr>\n",
       "      <td>8</td>\n",
       "      <td>France</td>\n",
       "      <td>61.18</td>\n",
       "      <td>83.25</td>\n",
       "      <td>-22.07</td>\n",
       "    </tr>\n",
       "    <tr>\n",
       "      <td>9</td>\n",
       "      <td>Sweden</td>\n",
       "      <td>64.64</td>\n",
       "      <td>82.65</td>\n",
       "      <td>-18.01</td>\n",
       "    </tr>\n",
       "  </tbody>\n",
       "</table>\n",
       "</div>"
      ],
      "text/plain": [
       "         Country   1900   2018  difference\n",
       "0        Austria  59.30  82.15      -22.85\n",
       "1        Belgium  62.21  81.35      -19.14\n",
       "2  Great Britain  61.41  81.80      -20.39\n",
       "3        Germany  61.39  81.30      -19.91\n",
       "4        Denmark  64.62  81.55      -16.93\n",
       "5          Italy  62.05  83.05      -21.00\n",
       "6    Netherlands  63.11  81.90      -18.79\n",
       "7         Norway  63.57  82.70      -19.13\n",
       "8         France  61.18  83.25      -22.07\n",
       "9         Sweden  64.64  82.65      -18.01"
      ]
     },
     "execution_count": 177,
     "metadata": {},
     "output_type": "execute_result"
    }
   ],
   "source": [
    "# додаємо рядок різниць між групами\n",
    "new_colum = [data[\"1900\"][i] - data[\"2018\"][i] for i in range(data.shape[0])]\n",
    "data.insert(3, \"difference\", new_colum)\n",
    "data"
   ]
  },
  {
   "cell_type": "code",
   "execution_count": 178,
   "metadata": {},
   "outputs": [
    {
     "name": "stdout",
     "output_type": "stream",
     "text": [
      "     df    0.05\n",
      "0     1  12.700\n",
      "1     2   4.303\n",
      "2     3   3.182\n",
      "3     4   2.776\n",
      "4     5   2.571\n",
      "..  ...     ...\n",
      "86  150   1.976\n",
      "87  200   1.972\n",
      "88  250   1.969\n",
      "89  300   1.968\n",
      "90  350   1.967\n",
      "\n",
      "[91 rows x 2 columns]\n"
     ]
    }
   ],
   "source": [
    "# підключення таблиці критичних значень для парного критерія\n",
    "file = 'C:/Users/Alex/Desktop/BMD/Laba6/Couple_critical.xlsx'\n",
    "xl = pd.ExcelFile(file)\n",
    "control_couple = xl.parse('Лист1')\n",
    "print(control_couple)"
   ]
  },
  {
   "cell_type": "code",
   "execution_count": 179,
   "metadata": {},
   "outputs": [
    {
     "name": "stdout",
     "output_type": "stream",
     "text": [
      "[-34.566035837139125, 2.262, 'NOT significant']\n"
     ]
    }
   ],
   "source": [
    "# функція для визначення відмінності між групами за критерієм Стьюдента\n",
    "def Student(n):\n",
    "    Result = []\n",
    "    \n",
    "# розрахунок t-критерія Стьюдента за формулою    \n",
    "    t_emp = data[\"difference\"].mean() / data[\"difference\"].std() * math.sqrt(n)\n",
    "    Result.append(t_emp)\n",
    "    \n",
    "# підрахунок значення ступеня свободи t_critical\n",
    "    count = 0\n",
    "    while control_couple[\"df\"][count] < n-1:\n",
    "        count += 1\n",
    "    t_critical = control_couple[0.05][count]\n",
    "    Result.append(t_critical)\n",
    "    \n",
    "# оцінюємо значимість зв'язку\n",
    "    if abs(t_emp) > t_critical:\n",
    "        Result.append(\"NOT significant\")\n",
    "    else:\n",
    "        Result.append(\"significant\")\n",
    "        \n",
    "    return Result\n",
    "    \n",
    "print(Student(data.shape[0]))"
   ]
  },
  {
   "cell_type": "code",
   "execution_count": 180,
   "metadata": {},
   "outputs": [],
   "source": [
    "# Висновки\n",
    "# Взаємозв'язок між групами за коефіцієнтом кореляції Пірсона знаходиться в межах [0, 0.3] а отже є дуже слабким\n",
    "# Відмінність між групами за t-критерієм Стьюдента суттєва"
   ]
  }
 ],
 "metadata": {
  "kernelspec": {
   "display_name": "Python 3",
   "language": "python",
   "name": "python3"
  },
  "language_info": {
   "codemirror_mode": {
    "name": "ipython",
    "version": 3
   },
   "file_extension": ".py",
   "mimetype": "text/x-python",
   "name": "python",
   "nbconvert_exporter": "python",
   "pygments_lexer": "ipython3",
   "version": "3.7.4"
  }
 },
 "nbformat": 4,
 "nbformat_minor": 2
}
