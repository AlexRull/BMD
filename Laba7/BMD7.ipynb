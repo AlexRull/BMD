{
 "cells": [
  {
   "cell_type": "code",
   "execution_count": 81,
   "metadata": {},
   "outputs": [
    {
     "data": {
      "text/html": [
       "<div>\n",
       "<style scoped>\n",
       "    .dataframe tbody tr th:only-of-type {\n",
       "        vertical-align: middle;\n",
       "    }\n",
       "\n",
       "    .dataframe tbody tr th {\n",
       "        vertical-align: top;\n",
       "    }\n",
       "\n",
       "    .dataframe thead th {\n",
       "        text-align: right;\n",
       "    }\n",
       "</style>\n",
       "<table border=\"1\" class=\"dataframe\">\n",
       "  <thead>\n",
       "    <tr style=\"text-align: right;\">\n",
       "      <th></th>\n",
       "      <th>Group1</th>\n",
       "      <th>Group2</th>\n",
       "    </tr>\n",
       "  </thead>\n",
       "  <tbody>\n",
       "    <tr>\n",
       "      <td>0</td>\n",
       "      <td>30</td>\n",
       "      <td>46</td>\n",
       "    </tr>\n",
       "    <tr>\n",
       "      <td>1</td>\n",
       "      <td>45</td>\n",
       "      <td>49</td>\n",
       "    </tr>\n",
       "    <tr>\n",
       "      <td>2</td>\n",
       "      <td>41</td>\n",
       "      <td>52</td>\n",
       "    </tr>\n",
       "    <tr>\n",
       "      <td>3</td>\n",
       "      <td>38</td>\n",
       "      <td>55</td>\n",
       "    </tr>\n",
       "    <tr>\n",
       "      <td>4</td>\n",
       "      <td>34</td>\n",
       "      <td>56</td>\n",
       "    </tr>\n",
       "    <tr>\n",
       "      <td>5</td>\n",
       "      <td>36</td>\n",
       "      <td>40</td>\n",
       "    </tr>\n",
       "    <tr>\n",
       "      <td>6</td>\n",
       "      <td>31</td>\n",
       "      <td>47</td>\n",
       "    </tr>\n",
       "    <tr>\n",
       "      <td>7</td>\n",
       "      <td>30</td>\n",
       "      <td>51</td>\n",
       "    </tr>\n",
       "    <tr>\n",
       "      <td>8</td>\n",
       "      <td>49</td>\n",
       "      <td>58</td>\n",
       "    </tr>\n",
       "    <tr>\n",
       "      <td>9</td>\n",
       "      <td>50</td>\n",
       "      <td>46</td>\n",
       "    </tr>\n",
       "    <tr>\n",
       "      <td>10</td>\n",
       "      <td>51</td>\n",
       "      <td>46</td>\n",
       "    </tr>\n",
       "    <tr>\n",
       "      <td>11</td>\n",
       "      <td>46</td>\n",
       "      <td>56</td>\n",
       "    </tr>\n",
       "    <tr>\n",
       "      <td>12</td>\n",
       "      <td>41</td>\n",
       "      <td>53</td>\n",
       "    </tr>\n",
       "    <tr>\n",
       "      <td>13</td>\n",
       "      <td>37</td>\n",
       "      <td>57</td>\n",
       "    </tr>\n",
       "    <tr>\n",
       "      <td>14</td>\n",
       "      <td>36</td>\n",
       "      <td>44</td>\n",
       "    </tr>\n",
       "    <tr>\n",
       "      <td>15</td>\n",
       "      <td>34</td>\n",
       "      <td>42</td>\n",
       "    </tr>\n",
       "    <tr>\n",
       "      <td>16</td>\n",
       "      <td>33</td>\n",
       "      <td>40</td>\n",
       "    </tr>\n",
       "    <tr>\n",
       "      <td>17</td>\n",
       "      <td>49</td>\n",
       "      <td>58</td>\n",
       "    </tr>\n",
       "    <tr>\n",
       "      <td>18</td>\n",
       "      <td>32</td>\n",
       "      <td>54</td>\n",
       "    </tr>\n",
       "    <tr>\n",
       "      <td>19</td>\n",
       "      <td>46</td>\n",
       "      <td>53</td>\n",
       "    </tr>\n",
       "  </tbody>\n",
       "</table>\n",
       "</div>"
      ],
      "text/plain": [
       "    Group1  Group2\n",
       "0       30      46\n",
       "1       45      49\n",
       "2       41      52\n",
       "3       38      55\n",
       "4       34      56\n",
       "5       36      40\n",
       "6       31      47\n",
       "7       30      51\n",
       "8       49      58\n",
       "9       50      46\n",
       "10      51      46\n",
       "11      46      56\n",
       "12      41      53\n",
       "13      37      57\n",
       "14      36      44\n",
       "15      34      42\n",
       "16      33      40\n",
       "17      49      58\n",
       "18      32      54\n",
       "19      46      53"
      ]
     },
     "execution_count": 81,
     "metadata": {},
     "output_type": "execute_result"
    }
   ],
   "source": [
    "# базу даних демонструє результати виконання тестів на увагу в двох групах\n",
    "# була згенерована з інтернет-ресурсу https://statpsy.ru/t-student/primer-t-test-ind/\n",
    "# з даної сторінки була взята тільки початкова таблиця даних, подальші розрахунки і пояснення не брались до уваги\n",
    "\n",
    "import pandas as pd\n",
    "data = pd.DataFrame({\n",
    "    \"Group1\" : [30, 45, 41, 38, 34, 36, 31, 30, 49, 50, 51, 46, 41, 37, 36, 34, 33, 49, 32, 46],\n",
    "    \"Group2\" : [46, 49, 52, 55, 56, 40, 47, 51, 58, 46, 46, 56, 53, 57, 44, 42, 40, 58, 54, 53]\n",
    "})\n",
    "\n",
    "data"
   ]
  },
  {
   "cell_type": "code",
   "execution_count": 82,
   "metadata": {},
   "outputs": [
    {
     "data": {
      "text/plain": [
       "Text(0.5, 0, 'Second')"
      ]
     },
     "execution_count": 82,
     "metadata": {},
     "output_type": "execute_result"
    },
    {
     "data": {
      "image/png": "[encoded data removed]",
      "text/plain": [
       "<Figure size 432x288 with 1 Axes>"
      ]
     },
     "metadata": {
      "needs_background": "light"
     },
     "output_type": "display_data"
    }
   ],
   "source": [
    "import matplotlib.pyplot as plt\n",
    "current_data = [data[\"Group1\"], data[\"Group2\"]]\n",
    "plt.boxplot(x = current_data, vert = False, patch_artist = True, widths = 0.3)\n",
    "plt.grid()\n",
    "plt.title('Scatter plot for Group', {'fontname':'Arial'}, fontweight = 'bold', fontsize = 16);\n",
    "plt.ylabel('Group', {'fontname':'Arial'}, color = 'r', fontweight = 'bold', fontsize = 14)\n",
    "plt.xlabel('Second', {'fontname':'Arial'}, color = 'r', fontweight = 'bold', fontsize = 14)"
   ]
  },
  {
   "cell_type": "code",
   "execution_count": 83,
   "metadata": {},
   "outputs": [],
   "source": [
    "# потрібні значення з таблиці критичних даних для критерію Лівеня буду брати вручну, а не програмою, як в попередній лабі\n",
    "# через те, що таблиця складена незручно, немає можливості дістатись до потрібних індексів \n",
    "# та неоднакова кількість ступенів свободи для двох груп\n",
    "\n",
    "# отже критичне значення для критерію Лівеня враховуючи наші дані, а саме: ступені свободи обох груп 20-1 = 19 \n",
    "# дорівнює 1,77. Далі буду брати його як константу Value_freedom_degree"
   ]
  },
  {
   "cell_type": "code",
   "execution_count": 84,
   "metadata": {},
   "outputs": [
    {
     "name": "stdout",
     "output_type": "stream",
     "text": [
      "[1.4718514652151222, 'not significant']\n"
     ]
    }
   ],
   "source": [
    "Value_freedom_degree = 1.77\n",
    "\n",
    "# функція оцінки вімінностей дисперсій між групами за критерієм Лівеня\n",
    "def Liven():\n",
    "    Result = []\n",
    "    \n",
    "# умова та застосування формули за критерієм Лівеня\n",
    "    if (data[\"Group1\"].std()) ** 2 >= (data[\"Group2\"].std()) ** 2:\n",
    "        F = (data[\"Group1\"].std()) ** 2 / (data[\"Group2\"].std()) ** 2\n",
    "    else:\n",
    "        F = (data[\"Group2\"].std()) ** 2 / (data[\"Group1\"].std()) ** 2\n",
    "    Result.append(F)\n",
    "    \n",
    "# оцінка рівності дисперсій\n",
    "    if F > Value_freedom_degree:\n",
    "        Result.append(\"significant\")\n",
    "    else:\n",
    "        Result.append(\"not significant\")\n",
    "    \n",
    "    return Result\n",
    "    \n",
    "print(Liven())"
   ]
  },
  {
   "cell_type": "code",
   "execution_count": 85,
   "metadata": {},
   "outputs": [
    {
     "name": "stdout",
     "output_type": "stream",
     "text": [
      "     df  p=0,05\n",
      "0     1  12.700\n",
      "1     2   4.303\n",
      "2     3   3.182\n",
      "3     4   2.776\n",
      "4     5   2.571\n",
      "..  ...     ...\n",
      "86  150   1.976\n",
      "87  200   1.972\n",
      "88  250   1.969\n",
      "89  300   1.968\n",
      "90  350   1.967\n",
      "\n",
      "[91 rows x 2 columns]\n"
     ]
    }
   ],
   "source": [
    "# підключення таблиці критичних значень для критерію Стьюдента\n",
    "file = 'C:/Users/Alex/Desktop/BMD/Laba7/Critical_Student.xlsx'\n",
    "xl = pd.ExcelFile(file)\n",
    "Critical_Student = xl.parse('Лист1')\n",
    "print(Critical_Student)"
   ]
  },
  {
   "cell_type": "code",
   "execution_count": 86,
   "metadata": {},
   "outputs": [
    {
     "name": "stdout",
     "output_type": "stream",
     "text": [
      "[4.694755749417024, 2.024, 'not equal']\n"
     ]
    }
   ],
   "source": [
    "# функція для визначення відмінності між групами за критерієм Стьюдента в залежності від рівності/відмінності дисперсій\n",
    "import math\n",
    "\n",
    "def Student():\n",
    "    Result = []\n",
    "    N = data.shape[0]\n",
    "    \n",
    "# умова та застосування різних формул за критерієм Стьюдента, залежно від попередньої оцінки рівності    \n",
    "    if Liven()[1] == \"not significant\":\n",
    "        t = (abs(data[\"Group1\"].mean() - data[\"Group2\"].mean()))/(math.sqrt((data[\"Group1\"].std()) ** 2 / N + (data[\"Group1\"].std()) ** 2 / N))\n",
    "        Result.append(t)\n",
    "    elif Liven()[1] == \"significant\":\n",
    "        t = (abs(data[\"Group1\"].mean() - data[\"Group2\"].mean()))/(math.sqrt(((N-1) * data[\"Group1\"].std()) ** 2 + ((N-1) * data[\"Group2\"].std()) ** 2) / (N + N - 2) * (1/N + 1/N))\n",
    "        Result.append(t)\n",
    "    \n",
    "# запис значення ступеня свободи з імпортованої таблиці\n",
    "    Freedom_degree = N + N - 2\n",
    "    Value = Critical_Student[\"p=0,05\"][Freedom_degree - 1]\n",
    "    Result.append(Value)\n",
    "\n",
    "# оцінка значимості зв'язку\n",
    "    if t > Value:\n",
    "        Result.append(\"not equal\")\n",
    "    else:\n",
    "        Result.append(\"equal\")\n",
    "\n",
    "    return Result\n",
    "    \n",
    "print(Student())\n",
    "\n",
    "# варто пояснити чому я передаю значення \"equal\" та \"not equal\" замість \"significant\" і \"not significant\"\n",
    "# Наскільки я розумію ми перевіряємо нульову гіпотезу, як звучить так: середні двох незалежних груп рівні  \n",
    "# що в перекладі на англійську звучить як means of the two groups are equal\n",
    "# significant же означає значимість. Я трохи не розумію де в цьому тесті ми перевіряємо значимість)\n",
    "# Тому я зробив висновок виходячи з тої нульової гіпотези, яку ми і перевіряли данною роботою"
   ]
  },
  {
   "cell_type": "code",
   "execution_count": null,
   "metadata": {},
   "outputs": [],
   "source": []
  }
 ],
 "metadata": {
  "kernelspec": {
   "display_name": "Python 3",
   "language": "python",
   "name": "python3"
  },
  "language_info": {
   "codemirror_mode": {
    "name": "ipython",
    "version": 3
   },
   "file_extension": ".py",
   "mimetype": "text/x-python",
   "name": "python",
   "nbconvert_exporter": "python",
   "pygments_lexer": "ipython3",
   "version": "3.7.4"
  }
 },
 "nbformat": 4,
 "nbformat_minor": 2
}
