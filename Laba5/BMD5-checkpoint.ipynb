{
 "cells": [
  {
   "cell_type": "code",
   "execution_count": 65,
   "metadata": {},
   "outputs": [
    {
     "data": {
      "text/html": [
       "<div>\n",
       "<style scoped>\n",
       "    .dataframe tbody tr th:only-of-type {\n",
       "        vertical-align: middle;\n",
       "    }\n",
       "\n",
       "    .dataframe tbody tr th {\n",
       "        vertical-align: top;\n",
       "    }\n",
       "\n",
       "    .dataframe thead th {\n",
       "        text-align: right;\n",
       "    }\n",
       "</style>\n",
       "<table border=\"1\" class=\"dataframe\">\n",
       "  <thead>\n",
       "    <tr style=\"text-align: right;\">\n",
       "      <th></th>\n",
       "      <th>Age</th>\n",
       "      <th>Count_Exp</th>\n",
       "      <th>Count_Teor</th>\n",
       "    </tr>\n",
       "  </thead>\n",
       "  <tbody>\n",
       "    <tr>\n",
       "      <td>0</td>\n",
       "      <td>&lt;20</td>\n",
       "      <td>1361</td>\n",
       "      <td>2118</td>\n",
       "    </tr>\n",
       "    <tr>\n",
       "      <td>1</td>\n",
       "      <td>20-29</td>\n",
       "      <td>2890</td>\n",
       "      <td>4236</td>\n",
       "    </tr>\n",
       "    <tr>\n",
       "      <td>2</td>\n",
       "      <td>30-39</td>\n",
       "      <td>4028</td>\n",
       "      <td>6354</td>\n",
       "    </tr>\n",
       "    <tr>\n",
       "      <td>3</td>\n",
       "      <td>40-49</td>\n",
       "      <td>7445</td>\n",
       "      <td>14944</td>\n",
       "    </tr>\n",
       "    <tr>\n",
       "      <td>4</td>\n",
       "      <td>50-59</td>\n",
       "      <td>20647</td>\n",
       "      <td>25301</td>\n",
       "    </tr>\n",
       "    <tr>\n",
       "      <td>5</td>\n",
       "      <td>60-69</td>\n",
       "      <td>39340</td>\n",
       "      <td>40241</td>\n",
       "    </tr>\n",
       "    <tr>\n",
       "      <td>6</td>\n",
       "      <td>70-79</td>\n",
       "      <td>55309</td>\n",
       "      <td>57185</td>\n",
       "    </tr>\n",
       "    <tr>\n",
       "      <td>7</td>\n",
       "      <td>80-89</td>\n",
       "      <td>80778</td>\n",
       "      <td>61419</td>\n",
       "    </tr>\n",
       "  </tbody>\n",
       "</table>\n",
       "</div>"
      ],
      "text/plain": [
       "     Age  Count_Exp  Count_Teor\n",
       "0    <20       1361        2118\n",
       "1  20-29       2890        4236\n",
       "2  30-39       4028        6354\n",
       "3  40-49       7445       14944\n",
       "4  50-59      20647       25301\n",
       "5  60-69      39340       40241\n",
       "6  70-79      55309       57185\n",
       "7  80-89      80778       61419"
      ]
     },
     "execution_count": 65,
     "metadata": {},
     "output_type": "execute_result"
    }
   ],
   "source": [
    "# дані по кількості смертей в Канаді за 2016 рук, були взяті з інтернет ресурсів, не оформлених у вигляді готової бази даних\n",
    "# за експерементальні дані я брав значення з інтернету, а за теоретичні, значення згідно з кривої нормального розподілу\n",
    "# врахувоуючи середню продовжуваність життя в Канаді - 83 роки\n",
    "import pandas\n",
    "work_data = pd.DataFrame(\n",
    "{\n",
    "    \"Age\" : [\"<20\", \"20-29\", \"30-39\", \"40-49\", \"50-59\", \"60-69\", \"70-79\", \"80-89\"],\n",
    "    \"Count_Exp\" : [1361, 2890, 4028, 7445, 20647, 39340, 55309, 80778],\n",
    "    \"Count_Teor\" : [2118, 4236, 6354, 14944, 25301, 40241, 57185, 61419]\n",
    "})\n",
    "work_data"
   ]
  },
  {
   "cell_type": "code",
   "execution_count": null,
   "metadata": {},
   "outputs": [],
   "source": []
  }
 ],
 "metadata": {
  "kernelspec": {
   "display_name": "Python 3",
   "language": "python",
   "name": "python3"
  },
  "language_info": {
   "codemirror_mode": {
    "name": "ipython",
    "version": 3
   },
   "file_extension": ".py",
   "mimetype": "text/x-python",
   "name": "python",
   "nbconvert_exporter": "python",
   "pygments_lexer": "ipython3",
   "version": "3.7.4"
  }
 },
 "nbformat": 4,
 "nbformat_minor": 2
}
