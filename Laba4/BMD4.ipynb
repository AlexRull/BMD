{
 "cells": [
  {
   "cell_type": "code",
   "execution_count": 181,
   "metadata": {},
   "outputs": [
    {
     "data": {
      "text/html": [
       "<div>\n",
       "<style scoped>\n",
       "    .dataframe tbody tr th:only-of-type {\n",
       "        vertical-align: middle;\n",
       "    }\n",
       "\n",
       "    .dataframe tbody tr th {\n",
       "        vertical-align: top;\n",
       "    }\n",
       "\n",
       "    .dataframe thead th {\n",
       "        text-align: right;\n",
       "    }\n",
       "</style>\n",
       "<table border=\"1\" class=\"dataframe\">\n",
       "  <thead>\n",
       "    <tr style=\"text-align: right;\">\n",
       "      <th></th>\n",
       "      <th>x</th>\n",
       "      <th>y</th>\n",
       "      <th>z</th>\n",
       "      <th>a</th>\n",
       "      <th>b</th>\n",
       "      <th>c</th>\n",
       "    </tr>\n",
       "  </thead>\n",
       "  <tbody>\n",
       "    <tr>\n",
       "      <td>0</td>\n",
       "      <td>-0.953946</td>\n",
       "      <td>10.300874</td>\n",
       "      <td>13.373459</td>\n",
       "      <td>0.648876</td>\n",
       "      <td>-0.235519</td>\n",
       "      <td>8.389964</td>\n",
       "    </tr>\n",
       "    <tr>\n",
       "      <td>1</td>\n",
       "      <td>-1.857499</td>\n",
       "      <td>1.182167</td>\n",
       "      <td>19.753005</td>\n",
       "      <td>0.633400</td>\n",
       "      <td>1.208979</td>\n",
       "      <td>23.545919</td>\n",
       "    </tr>\n",
       "    <tr>\n",
       "      <td>2</td>\n",
       "      <td>0.381676</td>\n",
       "      <td>2.196069</td>\n",
       "      <td>13.259390</td>\n",
       "      <td>0.321422</td>\n",
       "      <td>-0.217401</td>\n",
       "      <td>19.465459</td>\n",
       "    </tr>\n",
       "    <tr>\n",
       "      <td>3</td>\n",
       "      <td>0.015408</td>\n",
       "      <td>1.423393</td>\n",
       "      <td>5.764946</td>\n",
       "      <td>2.149376</td>\n",
       "      <td>0.743834</td>\n",
       "      <td>7.383968</td>\n",
       "    </tr>\n",
       "    <tr>\n",
       "      <td>4</td>\n",
       "      <td>-0.499904</td>\n",
       "      <td>2.371264</td>\n",
       "      <td>6.518545</td>\n",
       "      <td>0.308166</td>\n",
       "      <td>0.872760</td>\n",
       "      <td>1.509380</td>\n",
       "    </tr>\n",
       "    <tr>\n",
       "      <td>5</td>\n",
       "      <td>-0.443833</td>\n",
       "      <td>11.290211</td>\n",
       "      <td>11.595008</td>\n",
       "      <td>0.394870</td>\n",
       "      <td>1.451879</td>\n",
       "      <td>8.714225</td>\n",
       "    </tr>\n",
       "    <tr>\n",
       "      <td>6</td>\n",
       "      <td>-0.786399</td>\n",
       "      <td>0.811573</td>\n",
       "      <td>21.298512</td>\n",
       "      <td>0.087477</td>\n",
       "      <td>1.831716</td>\n",
       "      <td>2.709991</td>\n",
       "    </tr>\n",
       "    <tr>\n",
       "      <td>7</td>\n",
       "      <td>-0.379046</td>\n",
       "      <td>5.211495</td>\n",
       "      <td>4.445515</td>\n",
       "      <td>0.688493</td>\n",
       "      <td>1.009844</td>\n",
       "      <td>25.384116</td>\n",
       "    </tr>\n",
       "    <tr>\n",
       "      <td>8</td>\n",
       "      <td>-1.335450</td>\n",
       "      <td>2.086609</td>\n",
       "      <td>18.275496</td>\n",
       "      <td>0.964830</td>\n",
       "      <td>4.556076</td>\n",
       "      <td>5.030291</td>\n",
       "    </tr>\n",
       "    <tr>\n",
       "      <td>9</td>\n",
       "      <td>0.748632</td>\n",
       "      <td>8.554725</td>\n",
       "      <td>17.479370</td>\n",
       "      <td>1.183818</td>\n",
       "      <td>1.264435</td>\n",
       "      <td>1.656462</td>\n",
       "    </tr>\n",
       "    <tr>\n",
       "      <td>10</td>\n",
       "      <td>0.653954</td>\n",
       "      <td>9.440869</td>\n",
       "      <td>27.724948</td>\n",
       "      <td>0.324551</td>\n",
       "      <td>3.932711</td>\n",
       "      <td>5.983440</td>\n",
       "    </tr>\n",
       "    <tr>\n",
       "      <td>11</td>\n",
       "      <td>0.621806</td>\n",
       "      <td>-8.192242</td>\n",
       "      <td>-8.845213</td>\n",
       "      <td>0.445652</td>\n",
       "      <td>1.906371</td>\n",
       "      <td>2.917729</td>\n",
       "    </tr>\n",
       "    <tr>\n",
       "      <td>12</td>\n",
       "      <td>1.751838</td>\n",
       "      <td>14.447388</td>\n",
       "      <td>3.253119</td>\n",
       "      <td>0.111206</td>\n",
       "      <td>4.163543</td>\n",
       "      <td>12.488416</td>\n",
       "    </tr>\n",
       "    <tr>\n",
       "      <td>13</td>\n",
       "      <td>0.121409</td>\n",
       "      <td>6.835640</td>\n",
       "      <td>24.191240</td>\n",
       "      <td>0.124707</td>\n",
       "      <td>2.418972</td>\n",
       "      <td>1.306746</td>\n",
       "    </tr>\n",
       "    <tr>\n",
       "      <td>14</td>\n",
       "      <td>-1.776975</td>\n",
       "      <td>12.359419</td>\n",
       "      <td>15.998447</td>\n",
       "      <td>0.054335</td>\n",
       "      <td>-0.786803</td>\n",
       "      <td>1.942265</td>\n",
       "    </tr>\n",
       "    <tr>\n",
       "      <td>15</td>\n",
       "      <td>1.349464</td>\n",
       "      <td>8.428904</td>\n",
       "      <td>-6.323736</td>\n",
       "      <td>0.577134</td>\n",
       "      <td>5.626174</td>\n",
       "      <td>10.353364</td>\n",
       "    </tr>\n",
       "    <tr>\n",
       "      <td>16</td>\n",
       "      <td>0.606814</td>\n",
       "      <td>-3.640483</td>\n",
       "      <td>6.968158</td>\n",
       "      <td>0.397305</td>\n",
       "      <td>0.947665</td>\n",
       "      <td>0.123111</td>\n",
       "    </tr>\n",
       "    <tr>\n",
       "      <td>17</td>\n",
       "      <td>-0.774601</td>\n",
       "      <td>5.456488</td>\n",
       "      <td>9.997097</td>\n",
       "      <td>1.267658</td>\n",
       "      <td>-1.863398</td>\n",
       "      <td>6.628234</td>\n",
       "    </tr>\n",
       "    <tr>\n",
       "      <td>18</td>\n",
       "      <td>-1.803144</td>\n",
       "      <td>-2.941758</td>\n",
       "      <td>3.904303</td>\n",
       "      <td>0.598635</td>\n",
       "      <td>-0.364592</td>\n",
       "      <td>4.698710</td>\n",
       "    </tr>\n",
       "    <tr>\n",
       "      <td>19</td>\n",
       "      <td>-1.243903</td>\n",
       "      <td>9.346749</td>\n",
       "      <td>22.158718</td>\n",
       "      <td>1.780409</td>\n",
       "      <td>0.964753</td>\n",
       "      <td>2.633146</td>\n",
       "    </tr>\n",
       "  </tbody>\n",
       "</table>\n",
       "</div>"
      ],
      "text/plain": [
       "           x          y          z         a         b          c\n",
       "0  -0.953946  10.300874  13.373459  0.648876 -0.235519   8.389964\n",
       "1  -1.857499   1.182167  19.753005  0.633400  1.208979  23.545919\n",
       "2   0.381676   2.196069  13.259390  0.321422 -0.217401  19.465459\n",
       "3   0.015408   1.423393   5.764946  2.149376  0.743834   7.383968\n",
       "4  -0.499904   2.371264   6.518545  0.308166  0.872760   1.509380\n",
       "5  -0.443833  11.290211  11.595008  0.394870  1.451879   8.714225\n",
       "6  -0.786399   0.811573  21.298512  0.087477  1.831716   2.709991\n",
       "7  -0.379046   5.211495   4.445515  0.688493  1.009844  25.384116\n",
       "8  -1.335450   2.086609  18.275496  0.964830  4.556076   5.030291\n",
       "9   0.748632   8.554725  17.479370  1.183818  1.264435   1.656462\n",
       "10  0.653954   9.440869  27.724948  0.324551  3.932711   5.983440\n",
       "11  0.621806  -8.192242  -8.845213  0.445652  1.906371   2.917729\n",
       "12  1.751838  14.447388   3.253119  0.111206  4.163543  12.488416\n",
       "13  0.121409   6.835640  24.191240  0.124707  2.418972   1.306746\n",
       "14 -1.776975  12.359419  15.998447  0.054335 -0.786803   1.942265\n",
       "15  1.349464   8.428904  -6.323736  0.577134  5.626174  10.353364\n",
       "16  0.606814  -3.640483   6.968158  0.397305  0.947665   0.123111\n",
       "17 -0.774601   5.456488   9.997097  1.267658 -1.863398   6.628234\n",
       "18 -1.803144  -2.941758   3.904303  0.598635 -0.364592   4.698710\n",
       "19 -1.243903   9.346749  22.158718  1.780409  0.964753   2.633146"
      ]
     },
     "execution_count": 181,
     "metadata": {},
     "output_type": "execute_result"
    }
   ],
   "source": [
    "import pandas as pd\n",
    "import random\n",
    "data = pd.DataFrame(\n",
    "{\n",
    "    \"x\" : [random.normalvariate(0, 1) for _ in range(20)],\n",
    "    \"y\" : [random.normalvariate(5, 5) for _ in range(20)],\n",
    "    \"z\" : [random.normalvariate(10, 10) for _ in range(20)],\n",
    "    \"a\" : [random.expovariate(1) for _ in range(20)],\n",
    "    \"b\" : [random.normalvariate(2, 2) for _ in range(20)],\n",
    "    \"c\" : [random.expovariate(0.1) for _ in range(20)]\n",
    "})\n",
    "\n",
    "data"
   ]
  },
  {
   "cell_type": "code",
   "execution_count": 182,
   "metadata": {},
   "outputs": [
    {
     "name": "stdout",
     "output_type": "stream",
     "text": [
      "['Лист1']\n",
      "    i\\n       2       3       4       5       6       7       8       9  \\\n",
      "0     1  0.7071  0.7071  0.6872  0.6646  0.6431  0.6233  0.6052  0.5888   \n",
      "1     2     NaN     NaN  0.1677  0.2413  0.2806  0.3031  0.3164  0.3244   \n",
      "2     3     NaN     NaN     NaN     NaN  0.0875  0.1401  0.1743  0.1976   \n",
      "3     4     NaN     NaN     NaN     NaN     NaN     NaN  0.0561  0.0947   \n",
      "4     5     NaN     NaN     NaN     NaN     NaN     NaN     NaN     NaN   \n",
      "5     6     NaN     NaN     NaN     NaN     NaN     NaN     NaN     NaN   \n",
      "6     7     NaN     NaN     NaN     NaN     NaN     NaN     NaN     NaN   \n",
      "7     8     NaN     NaN     NaN     NaN     NaN     NaN     NaN     NaN   \n",
      "8     9     NaN     NaN     NaN     NaN     NaN     NaN     NaN     NaN   \n",
      "9    10     NaN     NaN     NaN     NaN     NaN     NaN     NaN     NaN   \n",
      "10   11     NaN     NaN     NaN     NaN     NaN     NaN     NaN     NaN   \n",
      "11   12     NaN     NaN     NaN     NaN     NaN     NaN     NaN     NaN   \n",
      "12   13     NaN     NaN     NaN     NaN     NaN     NaN     NaN     NaN   \n",
      "13   14     NaN     NaN     NaN     NaN     NaN     NaN     NaN     NaN   \n",
      "14   15     NaN     NaN     NaN     NaN     NaN     NaN     NaN     NaN   \n",
      "15   16     NaN     NaN     NaN     NaN     NaN     NaN     NaN     NaN   \n",
      "16   17     NaN     NaN     NaN     NaN     NaN     NaN     NaN     NaN   \n",
      "17   18     NaN     NaN     NaN     NaN     NaN     NaN     NaN     NaN   \n",
      "18   19     NaN     NaN     NaN     NaN     NaN     NaN     NaN     NaN   \n",
      "19   20     NaN     NaN     NaN     NaN     NaN     NaN     NaN     NaN   \n",
      "20   21     NaN     NaN     NaN     NaN     NaN     NaN     NaN     NaN   \n",
      "21   22     NaN     NaN     NaN     NaN     NaN     NaN     NaN     NaN   \n",
      "22   23     NaN     NaN     NaN     NaN     NaN     NaN     NaN     NaN   \n",
      "23   24     NaN     NaN     NaN     NaN     NaN     NaN     NaN     NaN   \n",
      "24   25     NaN     NaN     NaN     NaN     NaN     NaN     NaN     NaN   \n",
      "\n",
      "        10  ...      41      42      43      44      45      46      47  \\\n",
      "0   0.5739  ...  0.3940  0.3917  0.3894  0.3872  0.3850  0.3830  0.3808   \n",
      "1   0.3291  ...  0.2719  0.2701  0.2684  0.2667  0.2651  0.2635  0.2620   \n",
      "2   0.2141  ...  0.2357  0.2345  0.2334  0.2323  0.2313  0.2302  0.2291   \n",
      "3   0.1224  ...  0.2091  0.2085  0.2078  0.2072  0.2065  0.2058  0.2052   \n",
      "4   0.0399  ...  0.1876  0.1874  0.1871  0.1868  0.1865  0.1862  0.1859   \n",
      "5      NaN  ...  1.6963  0.1694  0.1695  0.1695  0.1695  0.1695  0.1695   \n",
      "6      NaN  ...  0.1513  0.1535  0.1539  0.1542  0.1545  0.1548  0.1550   \n",
      "7      NaN  ...  0.1384  0.1392  0.1398  0.1405  0.1410  0.1415  0.1420   \n",
      "8      NaN  ...  0.1249  0.1259  0.1269  0.1278  0.1286  0.1293  0.1300   \n",
      "9      NaN  ...  0.1123  0.1136  0.1149  0.1160  0.1170  0.1180  0.1189   \n",
      "10     NaN  ...  0.1004  0.1020  0.1035  0.1049  0.1062  0.1073  0.1085   \n",
      "11     NaN  ...  0.0891  0.0909  0.0927  0.0943  0.0959  0.0972  0.0986   \n",
      "12     NaN  ...  0.0782  0.0804  0.0824  0.0842  0.0860  0.0876  0.0892   \n",
      "13     NaN  ...  0.0677  0.0701  0.0724  0.0745  0.0765  0.0783  0.0801   \n",
      "14     NaN  ...  0.0575  0.0602  0.0628  0.0651  0.0673  0.0694  0.0713   \n",
      "15     NaN  ...  0.0476  0.0506  0.0534  0.0560  0.0584  0.0607  0.0628   \n",
      "16     NaN  ...  0.0379  0.0411  0.0442  0.0471  0.0497  0.0522  0.0546   \n",
      "17     NaN  ...  0.0283  0.0318  0.0352  0.0383  0.0412  0.0439  0.0465   \n",
      "18     NaN  ...  0.0188  0.0227  0.0263  0.0296  0.0328  0.0357  0.0385   \n",
      "19     NaN  ...  0.0094  0.0136  0.0175  0.0211  0.0245  0.0277  0.0307   \n",
      "20     NaN  ...     NaN  0.0045  0.0087  0.0126  0.0163  0.0197  0.0229   \n",
      "21     NaN  ...     NaN     NaN     NaN  0.0042  0.0081  0.0118  0.0153   \n",
      "22     NaN  ...     NaN     NaN     NaN     NaN     NaN  0.0039  0.0076   \n",
      "23     NaN  ...     NaN     NaN     NaN     NaN     NaN     NaN     NaN   \n",
      "24     NaN  ...     NaN     NaN     NaN     NaN     NaN     NaN     NaN   \n",
      "\n",
      "        48      49      50  \n",
      "0   0.3789  0.3770  0.3751  \n",
      "1   0.2604  0.2589  0.2574  \n",
      "2   0.2281  0.2271  0.2260  \n",
      "3   0.2045  0.2038  0.2032  \n",
      "4   0.1855  0.1851  0.1847  \n",
      "5   0.1693  0.1692  0.1691  \n",
      "6   0.1551  0.1553  0.1554  \n",
      "7   0.1423  0.1427  0.1430  \n",
      "8   0.1306  0.1312  0.1317  \n",
      "9   0.1197  0.1205  0.1212  \n",
      "10  0.1065  0.1105  0.1113  \n",
      "11  0.0998  0.1010  0.1020  \n",
      "12  0.0906  0.0919  0.0932  \n",
      "13  0.0817  0.0832  0.0846  \n",
      "14  0.0731  0.0748  0.0764  \n",
      "15  0.0648  0.0667  0.0685  \n",
      "16  0.0568  0.0588  0.0608  \n",
      "17  0.0489  0.0511  0.0532  \n",
      "18  0.0411  0.0436  0.0459  \n",
      "19  0.0335  0.0361  0.0386  \n",
      "20  0.0259  0.0288  0.0314  \n",
      "21  0.0185  0.0215  0.0244  \n",
      "22  0.0111  0.0143  0.0174  \n",
      "23  0.0037  0.0071  0.0104  \n",
      "24     NaN     NaN  0.0035  \n",
      "\n",
      "[25 rows x 50 columns]\n"
     ]
    }
   ],
   "source": [
    "file = 'Coeficients for the W test for normality.xlsx'\n",
    "xl = pd.ExcelFile(file)\n",
    "print(xl.sheet_names)\n",
    "control_data = xl.parse('Лист1')\n",
    "print(control_data)"
   ]
  },
  {
   "cell_type": "code",
   "execution_count": 183,
   "metadata": {},
   "outputs": [],
   "source": [
    "from scipy import stats\n",
    "def check_shapir(Mass):\n",
    "    result = stats.shapiro(Mass)\n",
    "    if result[0] > 0.905:\n",
    "        return(\"normal\")\n",
    "    else:\n",
    "        return(\"non-normal\")"
   ]
  },
  {
   "cell_type": "code",
   "execution_count": 184,
   "metadata": {},
   "outputs": [
    {
     "data": {
      "text/plain": [
       "'normal'"
      ]
     },
     "execution_count": 184,
     "metadata": {},
     "output_type": "execute_result"
    }
   ],
   "source": [
    "check_shapir(data[\"x\"])"
   ]
  },
  {
   "cell_type": "code",
   "execution_count": 185,
   "metadata": {},
   "outputs": [
    {
     "data": {
      "text/plain": [
       "'normal'"
      ]
     },
     "execution_count": 185,
     "metadata": {},
     "output_type": "execute_result"
    }
   ],
   "source": [
    "check_shapir(data[\"y\"])"
   ]
  },
  {
   "cell_type": "code",
   "execution_count": 186,
   "metadata": {},
   "outputs": [
    {
     "data": {
      "text/plain": [
       "'normal'"
      ]
     },
     "execution_count": 186,
     "metadata": {},
     "output_type": "execute_result"
    }
   ],
   "source": [
    "check_shapir(data[\"z\"])"
   ]
  },
  {
   "cell_type": "code",
   "execution_count": 187,
   "metadata": {},
   "outputs": [
    {
     "data": {
      "text/plain": [
       "'non-normal'"
      ]
     },
     "execution_count": 187,
     "metadata": {},
     "output_type": "execute_result"
    }
   ],
   "source": [
    "check_shapir(data[\"a\"])"
   ]
  },
  {
   "cell_type": "code",
   "execution_count": 188,
   "metadata": {},
   "outputs": [
    {
     "data": {
      "text/plain": [
       "'normal'"
      ]
     },
     "execution_count": 188,
     "metadata": {},
     "output_type": "execute_result"
    }
   ],
   "source": [
    "check_shapir(data[\"b\"])"
   ]
  },
  {
   "cell_type": "code",
   "execution_count": 189,
   "metadata": {},
   "outputs": [
    {
     "data": {
      "text/plain": [
       "'non-normal'"
      ]
     },
     "execution_count": 189,
     "metadata": {},
     "output_type": "execute_result"
    }
   ],
   "source": [
    "check_shapir(data[\"c\"])"
   ]
  },
  {
   "cell_type": "code",
   "execution_count": 190,
   "metadata": {},
   "outputs": [
    {
     "data": {
      "text/html": [
       "<div>\n",
       "<style scoped>\n",
       "    .dataframe tbody tr th:only-of-type {\n",
       "        vertical-align: middle;\n",
       "    }\n",
       "\n",
       "    .dataframe tbody tr th {\n",
       "        vertical-align: top;\n",
       "    }\n",
       "\n",
       "    .dataframe thead th {\n",
       "        text-align: right;\n",
       "    }\n",
       "</style>\n",
       "<table border=\"1\" class=\"dataframe\">\n",
       "  <thead>\n",
       "    <tr style=\"text-align: right;\">\n",
       "      <th></th>\n",
       "      <th>Variable</th>\n",
       "      <th>Statistics</th>\n",
       "      <th>Distribution</th>\n",
       "    </tr>\n",
       "  </thead>\n",
       "  <tbody>\n",
       "    <tr>\n",
       "      <td>0</td>\n",
       "      <td></td>\n",
       "      <td></td>\n",
       "      <td></td>\n",
       "    </tr>\n",
       "    <tr>\n",
       "      <td>1</td>\n",
       "      <td></td>\n",
       "      <td></td>\n",
       "      <td></td>\n",
       "    </tr>\n",
       "    <tr>\n",
       "      <td>2</td>\n",
       "      <td></td>\n",
       "      <td></td>\n",
       "      <td></td>\n",
       "    </tr>\n",
       "    <tr>\n",
       "      <td>3</td>\n",
       "      <td></td>\n",
       "      <td></td>\n",
       "      <td></td>\n",
       "    </tr>\n",
       "    <tr>\n",
       "      <td>4</td>\n",
       "      <td></td>\n",
       "      <td></td>\n",
       "      <td></td>\n",
       "    </tr>\n",
       "    <tr>\n",
       "      <td>5</td>\n",
       "      <td></td>\n",
       "      <td></td>\n",
       "      <td></td>\n",
       "    </tr>\n",
       "  </tbody>\n",
       "</table>\n",
       "</div>"
      ],
      "text/plain": [
       "  Variable Statistics Distribution\n",
       "0                                 \n",
       "1                                 \n",
       "2                                 \n",
       "3                                 \n",
       "4                                 \n",
       "5                                 "
      ]
     },
     "execution_count": 190,
     "metadata": {},
     "output_type": "execute_result"
    }
   ],
   "source": [
    "output_data = pd.DataFrame(\n",
    "{\n",
    "    \"Variable\" : [\"\" for _ in range(6)],\n",
    "    \"Statistics\" : [\"\" for _ in range(6)],\n",
    "    \"Distribution\" : [\"\" for _ in range(6)],\n",
    "})\n",
    "output_data"
   ]
  },
  {
   "cell_type": "code",
   "execution_count": 191,
   "metadata": {},
   "outputs": [
    {
     "data": {
      "text/html": [
       "<div>\n",
       "<style scoped>\n",
       "    .dataframe tbody tr th:only-of-type {\n",
       "        vertical-align: middle;\n",
       "    }\n",
       "\n",
       "    .dataframe tbody tr th {\n",
       "        vertical-align: top;\n",
       "    }\n",
       "\n",
       "    .dataframe thead th {\n",
       "        text-align: right;\n",
       "    }\n",
       "</style>\n",
       "<table border=\"1\" class=\"dataframe\">\n",
       "  <thead>\n",
       "    <tr style=\"text-align: right;\">\n",
       "      <th></th>\n",
       "      <th>Variable</th>\n",
       "      <th>Statistics</th>\n",
       "      <th>Distribution</th>\n",
       "    </tr>\n",
       "  </thead>\n",
       "  <tbody>\n",
       "    <tr>\n",
       "      <td>0</td>\n",
       "      <td>x</td>\n",
       "      <td></td>\n",
       "      <td>normal</td>\n",
       "    </tr>\n",
       "    <tr>\n",
       "      <td>1</td>\n",
       "      <td>y</td>\n",
       "      <td></td>\n",
       "      <td>normal</td>\n",
       "    </tr>\n",
       "    <tr>\n",
       "      <td>2</td>\n",
       "      <td>z</td>\n",
       "      <td></td>\n",
       "      <td>normal</td>\n",
       "    </tr>\n",
       "    <tr>\n",
       "      <td>3</td>\n",
       "      <td>a</td>\n",
       "      <td></td>\n",
       "      <td>non-normal</td>\n",
       "    </tr>\n",
       "    <tr>\n",
       "      <td>4</td>\n",
       "      <td>b</td>\n",
       "      <td></td>\n",
       "      <td>normal</td>\n",
       "    </tr>\n",
       "    <tr>\n",
       "      <td>5</td>\n",
       "      <td>c</td>\n",
       "      <td></td>\n",
       "      <td>non-normal</td>\n",
       "    </tr>\n",
       "  </tbody>\n",
       "</table>\n",
       "</div>"
      ],
      "text/plain": [
       "  Variable Statistics Distribution\n",
       "0        x                  normal\n",
       "1        y                  normal\n",
       "2        z                  normal\n",
       "3        a              non-normal\n",
       "4        b                  normal\n",
       "5        c              non-normal"
      ]
     },
     "execution_count": 191,
     "metadata": {},
     "output_type": "execute_result"
    }
   ],
   "source": [
    "output_data[\"Variable\"] = [\"x\", \"y\", \"z\", \"a\", \"b\", \"c\"]\n",
    "output_data[\"Distribution\"] = [check_shapir(data[\"x\"]), \n",
    "                               check_shapir(data[\"y\"]), \n",
    "                               check_shapir(data[\"z\"]), \n",
    "                               check_shapir(data[\"a\"]), \n",
    "                               check_shapir(data[\"b\"]), \n",
    "                               check_shapir(data[\"c\"])]\n",
    "output_data"
   ]
  },
  {
   "cell_type": "code",
   "execution_count": 194,
   "metadata": {},
   "outputs": [
    {
     "data": {
      "text/html": [
       "<div>\n",
       "<style scoped>\n",
       "    .dataframe tbody tr th:only-of-type {\n",
       "        vertical-align: middle;\n",
       "    }\n",
       "\n",
       "    .dataframe tbody tr th {\n",
       "        vertical-align: top;\n",
       "    }\n",
       "\n",
       "    .dataframe thead th {\n",
       "        text-align: right;\n",
       "    }\n",
       "</style>\n",
       "<table border=\"1\" class=\"dataframe\">\n",
       "  <thead>\n",
       "    <tr style=\"text-align: right;\">\n",
       "      <th></th>\n",
       "      <th>Variable</th>\n",
       "      <th>Statistics</th>\n",
       "      <th>Distribution</th>\n",
       "    </tr>\n",
       "  </thead>\n",
       "  <tbody>\n",
       "    <tr>\n",
       "      <td>0</td>\n",
       "      <td>x</td>\n",
       "      <td>-0.2802 [1.0279]</td>\n",
       "      <td>normal</td>\n",
       "    </tr>\n",
       "    <tr>\n",
       "      <td>1</td>\n",
       "      <td>y</td>\n",
       "      <td>4.8485 [5.7323]</td>\n",
       "      <td>normal</td>\n",
       "    </tr>\n",
       "    <tr>\n",
       "      <td>2</td>\n",
       "      <td>z</td>\n",
       "      <td>11.5395 [9.4819]</td>\n",
       "      <td>normal</td>\n",
       "    </tr>\n",
       "    <tr>\n",
       "      <td>3</td>\n",
       "      <td>a</td>\n",
       "      <td>0.5114 [0.32 : 0.76]</td>\n",
       "      <td>non-normal</td>\n",
       "    </tr>\n",
       "    <tr>\n",
       "      <td>4</td>\n",
       "      <td>b</td>\n",
       "      <td>1.4716 [1.8493]</td>\n",
       "      <td>normal</td>\n",
       "    </tr>\n",
       "    <tr>\n",
       "      <td>5</td>\n",
       "      <td>c</td>\n",
       "      <td>5.5069 [2.46 : 9.12]</td>\n",
       "      <td>non-normal</td>\n",
       "    </tr>\n",
       "  </tbody>\n",
       "</table>\n",
       "</div>"
      ],
      "text/plain": [
       "  Variable            Statistics Distribution\n",
       "0        x      -0.2802 [1.0279]       normal\n",
       "1        y       4.8485 [5.7323]       normal\n",
       "2        z      11.5395 [9.4819]       normal\n",
       "3        a  0.5114 [0.32 : 0.76]   non-normal\n",
       "4        b       1.4716 [1.8493]       normal\n",
       "5        c  5.5069 [2.46 : 9.12]   non-normal"
      ]
     },
     "execution_count": 194,
     "metadata": {},
     "output_type": "execute_result"
    }
   ],
   "source": [
    "import numpy as np\n",
    "import math\n",
    "output_data[\"Statistics\"] = ['{:.4f} [{:.4f}]'.format(np.mean(data[\"x\"]), np.std(data[\"x\"])), \n",
    "                            '{:.4f} [{:.4f}]'.format(np.mean(data[\"y\"]), np.std(data[\"y\"])),\n",
    "                            '{:.4f} [{:.4f}]'.format(np.mean(data[\"z\"]), np.std(data[\"z\"])),\n",
    "                            '{:.4f} [{:.2f} : {:.2f}]'.format(np.median(data[\"a\"]), data[\"a\"].quantile(.25), data[\"a\"].quantile(.75)),\n",
    "                            '{:.4f} [{:.4f}]'.format(np.mean(data[\"b\"]), np.std(data[\"b\"])),\n",
    "                            '{:.4f} [{:.2f} : {:.2f}]'.format(np.median(data[\"c\"]), data[\"c\"].quantile(.25), data[\"c\"].quantile(.75))]\n",
    "output_data"
   ]
  },
  {
   "cell_type": "code",
   "execution_count": 207,
   "metadata": {},
   "outputs": [
    {
     "data": {
      "image/png": "[encoded data removed]",
      "text/plain": [
       "<Figure size 720x216 with 1 Axes>"
      ]
     },
     "metadata": {
      "needs_background": "light"
     },
     "output_type": "display_data"
    }
   ],
   "source": [
    "import matplotlib.pyplot as plt\n",
    "\n",
    "fig = plt.figure(figsize=(10,3))\n",
    "ax = plt.subplot(111)\n",
    "ax.axis('off')\n",
    "ax.table(cellText=output_data.values, colLabels=output_data.columns, bbox=[0,0,1,1])\n",
    "fig.savefig('Final_data_Laba4.pdf')\n",
    "plt.show()"
   ]
  },
  {
   "cell_type": "code",
   "execution_count": null,
   "metadata": {},
   "outputs": [],
   "source": []
  }
 ],
 "metadata": {
  "kernelspec": {
   "display_name": "Python 3",
   "language": "python",
   "name": "python3"
  },
  "language_info": {
   "codemirror_mode": {
    "name": "ipython",
    "version": 3
   },
   "file_extension": ".py",
   "mimetype": "text/x-python",
   "name": "python",
   "nbconvert_exporter": "python",
   "pygments_lexer": "ipython3",
   "version": "3.7.4"
  }
 },
 "nbformat": 4,
 "nbformat_minor": 2
}
